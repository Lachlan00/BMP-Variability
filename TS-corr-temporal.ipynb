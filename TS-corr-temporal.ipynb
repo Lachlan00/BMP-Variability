{
 "cells": [
  {
   "cell_type": "code",
   "execution_count": 2,
   "id": "ba378706",
   "metadata": {},
   "outputs": [],
   "source": [
    "import numpy as np\n",
    "import pandas as pd\n",
    "import seaborn as sns\n",
    "import xarray as xr\n",
    "import matplotlib.pyplot as plt\n",
    "from datetime import datetime, timedelta\n",
    "\n",
    "%matplotlib inline"
   ]
  },
  {
   "cell_type": "code",
   "execution_count": 3,
   "id": "20619578",
   "metadata": {},
   "outputs": [],
   "source": [
    "# Read in Temperature and Saliity data\n",
    "fn_PSAL = './data/ANMN/BMP120/aggregated/IMOS_ANMN-NSW_SZ_20171119_BMP120_FV01_PSAL-aggregated-timeseries_END-20210119_C-20210426.nc'\n",
    "fn_TEMP = './data/ANMN/BMP120/aggregated/IMOS_ANMN-NSW_TZ_20110329_BMP120_FV01_TEMP-aggregated-timeseries_END-20210119_C-20210426.nc'\n",
    "ncPSAL = xr.open_dataset(fn_PSAL)\n",
    "ncTEMP = xr.open_dataset(fn_TEMP)"
   ]
  },
  {
   "cell_type": "code",
   "execution_count": 4,
   "id": "13258b42",
   "metadata": {},
   "outputs": [],
   "source": [
    "# Read in chosen variables to pandas dataframe\n",
    "dfPSAL = pd.DataFrame({'TIME': ncPSAL.TIME, 'PSAL': ncPSAL.PSAL, 'PSALqc': ncPSAL.PSAL_quality_control,'DEPTH' : ncPSAL.DEPTH, 'DEPTHqc' : ncPSAL.DEPTH_quality_control}).set_index('TIME')\n",
    "dfTEMP = pd.DataFrame({'TIME': ncTEMP.TIME, 'TEMP': ncTEMP.TEMP, 'TEMPqc': ncTEMP.TEMP_quality_control,'DEPTH' : ncTEMP.DEPTH, 'DEPTHqc' : ncTEMP.DEPTH_quality_control}).set_index('TIME')"
   ]
  },
  {
   "cell_type": "code",
   "execution_count": 5,
   "id": "a1dad3c7",
   "metadata": {},
   "outputs": [],
   "source": [
    "# Apply quality control flags\n",
    "dfPSAL = dfPSAL[(dfPSAL.PSALqc == 1)&(dfPSAL.DEPTHqc == 1)]\n",
    "dfTEMP = dfTEMP[(dfTEMP.TEMPqc == 1)&(dfTEMP.DEPTHqc == 1)]"
   ]
  },
  {
   "cell_type": "code",
   "execution_count": 6,
   "id": "6e30779e",
   "metadata": {},
   "outputs": [
    {
     "data": {
      "text/plain": [
       "<AxesSubplot:xlabel='TIME'>"
      ]
     },
     "execution_count": 6,
     "metadata": {},
     "output_type": "execute_result"
    },
    {
     "data": {
      "image/png": "[encoded data removed]",
      "text/plain": [
       "<Figure size 432x288 with 1 Axes>"
      ]
     },
     "metadata": {
      "needs_background": "light"
     },
     "output_type": "display_data"
    }
   ],
   "source": [
    "# bin the data into depth bins (set inside the square brackets, using big bins for the moment to keep things simple), the 'labels' field gives the bins a name\n",
    "binnedPSAL = pd.cut(x=dfPSAL.DEPTH, bins=[10, 25, 60, np.inf], right=False, labels=['surface', '30-60' , 'bottom'])\n",
    "binnedTEMP = pd.cut(x=dfTEMP.DEPTH, bins=[10, 25, 60, np.inf], right=False, labels=['surface', '30-60' , 'bottom'])\n",
    "groupedPSAL = dfPSAL.groupby(binnedPSAL)\n",
    "groupedTEMP = dfTEMP.groupby(binnedTEMP)\n",
    "surfacePSAL = groupedPSAL.get_group('surface').PSAL.resample('1D').mean()\n",
    "surfaceTEMP = groupedTEMP.get_group('surface').TEMP.resample('1D').mean()\n",
    "surfacePSAL.plot()\n",
    "surfaceTEMP.plot()"
   ]
  },
  {
   "cell_type": "code",
   "execution_count": 7,
   "id": "a2872ce5",
   "metadata": {},
   "outputs": [
    {
     "data": {
      "text/plain": [
       "TIME\n",
       "2011-03-29    20.816395\n",
       "2011-03-30    20.996569\n",
       "2011-03-31    21.149225\n",
       "2011-04-01    21.218115\n",
       "2011-04-02    21.027721\n",
       "                ...    \n",
       "2021-01-15    20.002752\n",
       "2021-01-16    21.602133\n",
       "2021-01-17    23.789230\n",
       "2021-01-18    24.904610\n",
       "2021-01-19    24.963627\n",
       "Freq: D, Name: TEMP, Length: 3585, dtype: float32"
      ]
     },
     "execution_count": 7,
     "metadata": {},
     "output_type": "execute_result"
    }
   ],
   "source": [
    "\n",
    "surfaceTEMP"
   ]
  },
  {
   "cell_type": "code",
   "execution_count": 8,
   "id": "2bacd701",
   "metadata": {},
   "outputs": [
    {
     "data": {
      "text/plain": [
       "TIME\n",
       "2017-11-19    35.531544\n",
       "2017-11-20    35.519264\n",
       "2017-11-21    35.507656\n",
       "2017-11-22    35.490723\n",
       "2017-11-23    35.487228\n",
       "                ...    \n",
       "2021-01-15    35.486767\n",
       "2021-01-16    35.498131\n",
       "2021-01-17    35.518467\n",
       "2021-01-18    35.430218\n",
       "2021-01-19    35.455585\n",
       "Freq: D, Name: PSAL, Length: 1158, dtype: float32"
      ]
     },
     "execution_count": 8,
     "metadata": {},
     "output_type": "execute_result"
    }
   ],
   "source": []
  },
  {
   "cell_type": "code",
   "execution_count": 12,
   "id": "a9ec9aca",
   "metadata": {},
   "outputs": [],
   "source": [
    "# Export data to complete anaylsis in R\n",
    "df_merged = pd.merge(surfaceTEMP, surfacePSAL, on='TIME')\n",
    "df_merged.to_csv('data/ANMN/custom/surface-series.csv', index=True)  "
   ]
  },
  {
   "cell_type": "code",
   "execution_count": null,
   "id": "af36abd3",
   "metadata": {},
   "outputs": [],
   "source": []
  }
 ],
 "metadata": {
  "kernelspec": {
   "display_name": "Python 3",
   "language": "python",
   "name": "python3"
  },
  "language_info": {
   "codemirror_mode": {
    "name": "ipython",
    "version": 3
   },
   "file_extension": ".py",
   "mimetype": "text/x-python",
   "name": "python",
   "nbconvert_exporter": "python",
   "pygments_lexer": "ipython3",
   "version": "3.9.2"
  }
 },
 "nbformat": 4,
 "nbformat_minor": 5
}
